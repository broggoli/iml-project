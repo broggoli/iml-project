{
 "cells": [
  {
   "cell_type": "code",
   "execution_count": 14,
   "metadata": {},
   "outputs": [
    {
     "name": "stdout",
     "output_type": "stream",
     "text": [
      "<class 'pandas.core.frame.DataFrame'>\n",
      "RangeIndex: 10000 entries, 0 to 9999\n",
      "Data columns (total 12 columns):\n",
      " #   Column  Non-Null Count  Dtype  \n",
      "---  ------  --------------  -----  \n",
      " 0   Id      10000 non-null  int64  \n",
      " 1   y       10000 non-null  float64\n",
      " 2   x1      10000 non-null  float64\n",
      " 3   x2      10000 non-null  float64\n",
      " 4   x3      10000 non-null  float64\n",
      " 5   x4      10000 non-null  float64\n",
      " 6   x5      10000 non-null  float64\n",
      " 7   x6      10000 non-null  float64\n",
      " 8   x7      10000 non-null  float64\n",
      " 9   x8      10000 non-null  float64\n",
      " 10  x9      10000 non-null  float64\n",
      " 11  x10     10000 non-null  float64\n",
      "dtypes: float64(11), int64(1)\n",
      "memory usage: 937.6 KB\n",
      "None\n",
      "(10000, 12)\n",
      "   Id           y           x1           x2           x3           x4  \\\n",
      "0   0  738.023171  1764.052346   400.157208   978.737984  2240.893199   \n",
      "1   1  400.646015   144.043571  1454.273507   761.037725   121.675016   \n",
      "2   2  189.900156 -2552.989816   653.618595   864.436199  -742.165020   \n",
      "3   3  -78.399449   154.947426   378.162520  -887.785748 -1980.796468   \n",
      "4   4 -547.373531 -1048.552965 -1420.017937 -1706.270191  1950.775395   \n",
      "5   5 -242.792588  -895.466561   386.902498  -510.805138 -1180.632184   \n",
      "\n",
      "            x5           x6           x7           x8           x9  \\\n",
      "0  1867.557990  -977.277880   950.088418  -151.357208  -103.218852   \n",
      "1   443.863233   333.674327  1494.079073  -205.158264   313.067702   \n",
      "2  2269.754624 -1454.365675    45.758517  -187.183850  1532.779214   \n",
      "3  -347.912149   156.348969  1230.290681  1202.379849  -387.326817   \n",
      "4  -509.652182  -438.074302 -1252.795360   777.490356 -1613.897848   \n",
      "5   -28.182228   428.331871    66.517222   302.471898  -634.322094   \n",
      "\n",
      "           x10  \n",
      "0   410.598502  \n",
      "1  -854.095739  \n",
      "2  1469.358770  \n",
      "3  -302.302751  \n",
      "4  -212.740280  \n",
      "5  -362.741166  \n"
     ]
    }
   ],
   "source": [
    "# Python version 3.8.8\n",
    "\n",
    "from sklearn.linear_model import LinearRegression\n",
    "import pandas as pd\n",
    "import numpy as np\n",
    "\n",
    "import numpy as np\n",
    "np.random.seed(4)\n",
    "\n",
    "train_df = pd.read_csv(\"train.csv\")\n",
    "test_df = pd.read_csv(\"test.csv\")\n",
    "\n",
    "print(train_df.info())\n",
    "print(train_df.shape)\n",
    "print(train_df.head(6))\n"
   ]
  },
  {
   "cell_type": "code",
   "execution_count": 16,
   "metadata": {},
   "outputs": [
    {
     "data": {
      "text/html": [
       "<div>\n",
       "<style scoped>\n",
       "    .dataframe tbody tr th:only-of-type {\n",
       "        vertical-align: middle;\n",
       "    }\n",
       "\n",
       "    .dataframe tbody tr th {\n",
       "        vertical-align: top;\n",
       "    }\n",
       "\n",
       "    .dataframe thead th {\n",
       "        text-align: right;\n",
       "    }\n",
       "</style>\n",
       "<table border=\"1\" class=\"dataframe\">\n",
       "  <thead>\n",
       "    <tr style=\"text-align: right;\">\n",
       "      <th></th>\n",
       "      <th>x1</th>\n",
       "      <th>x2</th>\n",
       "      <th>x3</th>\n",
       "      <th>x4</th>\n",
       "      <th>x5</th>\n",
       "      <th>x6</th>\n",
       "      <th>x7</th>\n",
       "      <th>x8</th>\n",
       "      <th>x9</th>\n",
       "      <th>x10</th>\n",
       "    </tr>\n",
       "  </thead>\n",
       "  <tbody>\n",
       "    <tr>\n",
       "      <th>0</th>\n",
       "      <td>1764.052346</td>\n",
       "      <td>400.157208</td>\n",
       "      <td>978.737984</td>\n",
       "      <td>2240.893199</td>\n",
       "      <td>1867.557990</td>\n",
       "      <td>-977.277880</td>\n",
       "      <td>950.088418</td>\n",
       "      <td>-151.357208</td>\n",
       "      <td>-103.218852</td>\n",
       "      <td>410.598502</td>\n",
       "    </tr>\n",
       "    <tr>\n",
       "      <th>1</th>\n",
       "      <td>144.043571</td>\n",
       "      <td>1454.273507</td>\n",
       "      <td>761.037725</td>\n",
       "      <td>121.675016</td>\n",
       "      <td>443.863233</td>\n",
       "      <td>333.674327</td>\n",
       "      <td>1494.079073</td>\n",
       "      <td>-205.158264</td>\n",
       "      <td>313.067702</td>\n",
       "      <td>-854.095739</td>\n",
       "    </tr>\n",
       "    <tr>\n",
       "      <th>2</th>\n",
       "      <td>-2552.989816</td>\n",
       "      <td>653.618595</td>\n",
       "      <td>864.436199</td>\n",
       "      <td>-742.165020</td>\n",
       "      <td>2269.754624</td>\n",
       "      <td>-1454.365675</td>\n",
       "      <td>45.758517</td>\n",
       "      <td>-187.183850</td>\n",
       "      <td>1532.779214</td>\n",
       "      <td>1469.358770</td>\n",
       "    </tr>\n",
       "    <tr>\n",
       "      <th>3</th>\n",
       "      <td>154.947426</td>\n",
       "      <td>378.162520</td>\n",
       "      <td>-887.785748</td>\n",
       "      <td>-1980.796468</td>\n",
       "      <td>-347.912149</td>\n",
       "      <td>156.348969</td>\n",
       "      <td>1230.290681</td>\n",
       "      <td>1202.379849</td>\n",
       "      <td>-387.326817</td>\n",
       "      <td>-302.302751</td>\n",
       "    </tr>\n",
       "    <tr>\n",
       "      <th>4</th>\n",
       "      <td>-1048.552965</td>\n",
       "      <td>-1420.017937</td>\n",
       "      <td>-1706.270191</td>\n",
       "      <td>1950.775395</td>\n",
       "      <td>-509.652182</td>\n",
       "      <td>-438.074302</td>\n",
       "      <td>-1252.795360</td>\n",
       "      <td>777.490356</td>\n",
       "      <td>-1613.897848</td>\n",
       "      <td>-212.740280</td>\n",
       "    </tr>\n",
       "  </tbody>\n",
       "</table>\n",
       "</div>"
      ],
      "text/plain": [
       "            x1           x2           x3           x4           x5  \\\n",
       "0  1764.052346   400.157208   978.737984  2240.893199  1867.557990   \n",
       "1   144.043571  1454.273507   761.037725   121.675016   443.863233   \n",
       "2 -2552.989816   653.618595   864.436199  -742.165020  2269.754624   \n",
       "3   154.947426   378.162520  -887.785748 -1980.796468  -347.912149   \n",
       "4 -1048.552965 -1420.017937 -1706.270191  1950.775395  -509.652182   \n",
       "\n",
       "            x6           x7           x8           x9          x10  \n",
       "0  -977.277880   950.088418  -151.357208  -103.218852   410.598502  \n",
       "1   333.674327  1494.079073  -205.158264   313.067702  -854.095739  \n",
       "2 -1454.365675    45.758517  -187.183850  1532.779214  1469.358770  \n",
       "3   156.348969  1230.290681  1202.379849  -387.326817  -302.302751  \n",
       "4  -438.074302 -1252.795360   777.490356 -1613.897848  -212.740280  "
      ]
     },
     "execution_count": 16,
     "metadata": {},
     "output_type": "execute_result"
    }
   ],
   "source": [
    "train = train_df.drop([\"Id\", \"y\"], axis=1)\n",
    "test = test_df.drop(\"Id\", axis=1)\n",
    "y = train_df[\"y\"]\n",
    "train.head(5)"
   ]
  },
  {
   "cell_type": "code",
   "execution_count": 26,
   "metadata": {},
   "outputs": [
    {
     "name": "stdout",
     "output_type": "stream",
     "text": [
      "score: 1.0\n"
     ]
    }
   ],
   "source": [
    "reg = LinearRegression().fit(train, y)\n",
    "print(f\"score: {reg.score(train, y)}\")\n",
    "\n",
    "pred = pd.DataFrame({\"pred\": reg.predict(test)})\n",
    "\n",
    "res = pd.concat([test_df[\"Id\"], pred], axis=1)\n",
    "res\n",
    "res.to_csv(\"pred.csv\")"
   ]
  },
  {
   "cell_type": "code",
   "execution_count": 33,
   "metadata": {},
   "outputs": [
    {
     "data": {
      "text/plain": [
       "-66.00242349023135"
      ]
     },
     "execution_count": 33,
     "metadata": {},
     "output_type": "execute_result"
    }
   ],
   "source": [
    "\n",
    "# check correctness\n",
    "np.array(test.iloc()[0]).mean()\n",
    "\n",
    "#TODO use other loss function"
   ]
  }
 ],
 "metadata": {
  "interpreter": {
   "hash": "4e1d9a8909477db77738c33245c29c7265277ef753467dede8cf3f814cde494e"
  },
  "kernelspec": {
   "display_name": "Python 3.10.2 64-bit",
   "language": "python",
   "name": "python3"
  },
  "language_info": {
   "codemirror_mode": {
    "name": "ipython",
    "version": 3
   },
   "file_extension": ".py",
   "mimetype": "text/x-python",
   "name": "python",
   "nbconvert_exporter": "python",
   "pygments_lexer": "ipython3",
   "version": "3.8.8"
  },
  "orig_nbformat": 4
 },
 "nbformat": 4,
 "nbformat_minor": 2
}
